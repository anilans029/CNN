{
  "nbformat": 4,
  "nbformat_minor": 0,
  "metadata": {
    "colab": {
      "name": "Implementation of CNN for MNIST dataset.ipynb",
      "provenance": []
    },
    "kernelspec": {
      "name": "python3",
      "display_name": "Python 3"
    },
    "language_info": {
      "name": "python"
    },
    "accelerator": "GPU",
    "gpuClass": "standard"
  },
  "cells": [
    {
      "cell_type": "code",
      "execution_count": 1,
      "metadata": {
        "colab": {
          "base_uri": "https://localhost:8080/"
        },
        "id": "Mu0Lpcf5aDT1",
        "outputId": "461900da-c1d5-4edd-8002-75ec2aea925e"
      },
      "outputs": [
        {
          "output_type": "stream",
          "name": "stdout",
          "text": [
            "Wed Jun 15 12:49:08 2022       \n",
            "+-----------------------------------------------------------------------------+\n",
            "| NVIDIA-SMI 460.32.03    Driver Version: 460.32.03    CUDA Version: 11.2     |\n",
            "|-------------------------------+----------------------+----------------------+\n",
            "| GPU  Name        Persistence-M| Bus-Id        Disp.A | Volatile Uncorr. ECC |\n",
            "| Fan  Temp  Perf  Pwr:Usage/Cap|         Memory-Usage | GPU-Util  Compute M. |\n",
            "|                               |                      |               MIG M. |\n",
            "|===============================+======================+======================|\n",
            "|   0  Tesla T4            Off  | 00000000:00:04.0 Off |                    0 |\n",
            "| N/A   51C    P8     9W /  70W |      0MiB / 15109MiB |      0%      Default |\n",
            "|                               |                      |                  N/A |\n",
            "+-------------------------------+----------------------+----------------------+\n",
            "                                                                               \n",
            "+-----------------------------------------------------------------------------+\n",
            "| Processes:                                                                  |\n",
            "|  GPU   GI   CI        PID   Type   Process name                  GPU Memory |\n",
            "|        ID   ID                                                   Usage      |\n",
            "|=============================================================================|\n",
            "|  No running processes found                                                 |\n",
            "+-----------------------------------------------------------------------------+\n"
          ]
        }
      ],
      "source": [
        "!nvidia-smi"
      ]
    },
    {
      "cell_type": "markdown",
      "source": [
        "** CNN implementation on the MNIST data set**"
      ],
      "metadata": {
        "id": "q6ZrzbIaagru"
      }
    },
    {
      "cell_type": "code",
      "source": [
        "import tensorflow as tf\n",
        "from tensorflow.keras.models import Sequential\n",
        "from tensorflow.keras.datasets import mnist\n",
        "import matplotlib.pyplot as plt\n",
        "import numpy as np\n",
        "from keras.utils import np_utils\n",
        "%matplotlib inline"
      ],
      "metadata": {
        "id": "DMMToOHUa071"
      },
      "execution_count": 46,
      "outputs": []
    },
    {
      "cell_type": "markdown",
      "source": [
        "Load DataSet"
      ],
      "metadata": {
        "id": "gMFbjt1Bcd_R"
      }
    },
    {
      "cell_type": "code",
      "source": [
        "(x_train,y_train),(x_test, y_test) = mnist.load_data()\n",
        "\n",
        "print(f\"the size of the train set is {len(x_train)}\")\n",
        "print(f\"the size of the test set is {len(x_test)}\")\n"
      ],
      "metadata": {
        "colab": {
          "base_uri": "https://localhost:8080/"
        },
        "id": "PD1J-wDAa01_",
        "outputId": "0b7f9517-17d0-4191-d3af-ed55e4ab2c20"
      },
      "execution_count": 47,
      "outputs": [
        {
          "output_type": "stream",
          "name": "stdout",
          "text": [
            "the size of the train set is 60000\n",
            "the size of the test set is 10000\n"
          ]
        }
      ]
    },
    {
      "cell_type": "markdown",
      "source": [
        "visulaing the some of the sample of the dataset"
      ],
      "metadata": {
        "id": "DoMybB75dM7N"
      }
    },
    {
      "cell_type": "code",
      "source": [
        "plt.imshow(x_train[0])"
      ],
      "metadata": {
        "colab": {
          "base_uri": "https://localhost:8080/",
          "height": 282
        },
        "id": "YFrompv3a0s4",
        "outputId": "a191756b-b5b5-48f7-ade5-215458f33c21"
      },
      "execution_count": 48,
      "outputs": [
        {
          "output_type": "execute_result",
          "data": {
            "text/plain": [
              "<matplotlib.image.AxesImage at 0x7ffb243fd310>"
            ]
          },
          "metadata": {},
          "execution_count": 48
        },
        {
          "output_type": "display_data",
          "data": {
            "text/plain": [
              "<Figure size 432x288 with 1 Axes>"
            ],
            "image/png": "[encoded data removed]"
          },
          "metadata": {
            "needs_background": "light"
          }
        }
      ]
    },
    {
      "cell_type": "code",
      "source": [
        "fig = plt.figure(figsize=(20,20))\n",
        "for i in  range(6):\n",
        "  ax = fig.add_subplot(1,6,i+1)\n",
        "  ax.imshow(x_train[i],cmap=\"gray\")\n",
        "  ax.set_title(y_train[i])"
      ],
      "metadata": {
        "colab": {
          "base_uri": "https://localhost:8080/",
          "height": 223
        },
        "id": "TELQTdhra0iQ",
        "outputId": "670ed564-70a7-4be0-c80a-87aaccf7a21f"
      },
      "execution_count": 49,
      "outputs": [
        {
          "output_type": "display_data",
          "data": {
            "text/plain": [
              "<Figure size 1440x1440 with 6 Axes>"
            ],
            "image/png": "[encoded data removed]"
          },
          "metadata": {
            "needs_background": "light"
          }
        }
      ]
    },
    {
      "cell_type": "code",
      "source": [
        "x_train[0].shape"
      ],
      "metadata": {
        "colab": {
          "base_uri": "https://localhost:8080/"
        },
        "id": "aicriZ2aaze4",
        "outputId": "1e327f7c-eafc-4800-b031-facd5499c4b4"
      },
      "execution_count": 50,
      "outputs": [
        {
          "output_type": "execute_result",
          "data": {
            "text/plain": [
              "(28, 28)"
            ]
          },
          "metadata": {},
          "execution_count": 50
        }
      ]
    },
    {
      "cell_type": "markdown",
      "source": [
        "Preprocess the input images : \n",
        "                             here we are resizing the pixel size by dividing each pixel in the image with 255"
      ],
      "metadata": {
        "id": "dVDkLQeDfw1s"
      }
    },
    {
      "cell_type": "code",
      "source": [
        "x_train, x_test = x_train/255, x_test/255\n",
        "\n",
        "print(x_train.shape)\n",
        "print(x_test.shape)"
      ],
      "metadata": {
        "colab": {
          "base_uri": "https://localhost:8080/"
        },
        "id": "p32FfjWDaySE",
        "outputId": "f0093cd6-2644-4ff8-8975-888b973c5f49"
      },
      "execution_count": 51,
      "outputs": [
        {
          "output_type": "stream",
          "name": "stdout",
          "text": [
            "(60000, 28, 28)\n",
            "(10000, 28, 28)\n"
          ]
        }
      ]
    },
    {
      "cell_type": "markdown",
      "source": [
        "***encoding categorical integer labels using one-hot encoding***"
      ],
      "metadata": {
        "id": "NhwJxFnnhi2C"
      }
    },
    {
      "cell_type": "code",
      "source": [
        " num_clases = 10\n",
        " print(\"integer_values_labels:\")\n",
        " print(y_train[:10])\n",
        "\n",
        " y_train = np_utils.to_categorical(y_train,num_classes=num_clases)\n",
        " y_test = np_utils.to_categorical(y_test,num_clases)\n",
        "\n",
        "print(\"1st 10 labels after encoded\")\n",
        " print(y_train[:10])"
      ],
      "metadata": {
        "colab": {
          "base_uri": "https://localhost:8080/"
        },
        "id": "ZIIdLtY1gYO2",
        "outputId": "e448c426-83be-4230-f65f-d9c0ceb7b2dd"
      },
      "execution_count": 52,
      "outputs": [
        {
          "output_type": "stream",
          "name": "stdout",
          "text": [
            "integer_values_labels:\n",
            "[5 0 4 1 9 2 1 3 1 4]\n",
            "1st 10 labels after encoded\n",
            "[[0. 0. 0. 0. 0. 1. 0. 0. 0. 0.]\n",
            " [1. 0. 0. 0. 0. 0. 0. 0. 0. 0.]\n",
            " [0. 0. 0. 0. 1. 0. 0. 0. 0. 0.]\n",
            " [0. 1. 0. 0. 0. 0. 0. 0. 0. 0.]\n",
            " [0. 0. 0. 0. 0. 0. 0. 0. 0. 1.]\n",
            " [0. 0. 1. 0. 0. 0. 0. 0. 0. 0.]\n",
            " [0. 1. 0. 0. 0. 0. 0. 0. 0. 0.]\n",
            " [0. 0. 0. 1. 0. 0. 0. 0. 0. 0.]\n",
            " [0. 1. 0. 0. 0. 0. 0. 0. 0. 0.]\n",
            " [0. 0. 0. 0. 1. 0. 0. 0. 0. 0.]]\n"
          ]
        }
      ]
    },
    {
      "cell_type": "markdown",
      "source": [
        "since the image are all gray-scale , we consider them as 1 channel in our cnn,\n",
        "and actual size of each image is 28,28 and since we need to specify the channel also we are reshaping the images to 28,28,1 (height,width, channels)\n",
        "*italicized text*"
      ],
      "metadata": {
        "id": "xhL_C7hvjFUe"
      }
    },
    {
      "cell_type": "code",
      "source": [
        "img_rows, img_cols = 28, 28\n",
        "\n",
        "x_train = x_train.reshape(x_train.shape[0], img_rows,img_cols,1)\n",
        "x_test = x_test.reshape(x_test.shape[0],img_rows,img_cols,1)\n"
      ],
      "metadata": {
        "id": "CjFywPyRhACL"
      },
      "execution_count": 53,
      "outputs": []
    },
    {
      "cell_type": "code",
      "source": [
        "print(x_train[0].shape)\n",
        "print(x_train.shape)\n",
        "print(x_test.shape)"
      ],
      "metadata": {
        "colab": {
          "base_uri": "https://localhost:8080/"
        },
        "id": "6tmYiY6DhAE7",
        "outputId": "f1474fc7-310a-49d6-d9ae-67a8305443a1"
      },
      "execution_count": 58,
      "outputs": [
        {
          "output_type": "stream",
          "name": "stdout",
          "text": [
            "(28, 28, 1)\n",
            "(60000, 28, 28, 1)\n",
            "(10000, 28, 28, 1)\n"
          ]
        }
      ]
    },
    {
      "cell_type": "markdown",
      "source": [
        "**Building and Training a CNN model over the this datasets**"
      ],
      "metadata": {
        "id": "yB4xcfl-lSIA"
      }
    },
    {
      "cell_type": "code",
      "source": [
        "from tensorflow.keras.layers import Conv2D,Dense,MaxPooling2D,Flatten"
      ],
      "metadata": {
        "id": "9ZPitLyohAHZ"
      },
      "execution_count": 59,
      "outputs": []
    },
    {
      "cell_type": "code",
      "source": [
        "model = Sequential()\n",
        "\n",
        "\n",
        "### adding 1st convolutional layer with 32 filters\n",
        "model.add(Conv2D(filters=32, kernel_size=(3,3), activation = \"relu\",input_shape= (28,28,1)))  ### ---> we get 32 feature maps of shape 26,26,1 , therefore o/p of this layer (26,26,32)\n",
        "\n",
        "### adding secong convolutional layyer with depth or filters = 64\n",
        "model.add(Conv2D(filters=64, kernel_size=(3,3), activation = \"relu\")) ### ---> we get 64 feature maps of shape 24,24,1 , therefore o/p of this layer (24,24,64)\n",
        "\n",
        "### adding third convolutional layyer with depth or filters = 128\n",
        "model.add(Conv2D(filters=128, kernel_size=(3,3), activation = \"relu\")) ### ---> we get 128 feature maps of shape 22,22,1 , therefore o/p of this layer (22,22,64)\n",
        "\n",
        "### addign the 1st maxpool layer ---> this reduces the dimension of the images\n",
        "model.add(MaxPooling2D(pool_size=(2,2))) ### ---> we get 64 feature maps of shape 11,11,1 , therefore o/p of this layer (11,11,128)\n",
        "\n",
        "\n",
        "model.add(Conv2D(filters=32, kernel_size=(3,3), activation = \"relu\"))  \n",
        "\n",
        "model.add(Conv2D(filters=64, kernel_size=(3,3), activation = \"relu\")) \n",
        "\n",
        "model.add(Conv2D(filters=64, kernel_size=(3,3), activation = \"relu\")) \n",
        "\n",
        "model.add(Flatten())\n",
        "\n",
        "model.add(Dense(64,activation=\"relu\"))\n",
        "\n",
        "model.add(Dense(10, activation = \"softmax\"))\n"
      ],
      "metadata": {
        "id": "90tDT8SVhAJ9"
      },
      "execution_count": 61,
      "outputs": []
    },
    {
      "cell_type": "code",
      "source": [
        "model.summary()"
      ],
      "metadata": {
        "colab": {
          "base_uri": "https://localhost:8080/"
        },
        "id": "TDlHRcVGhAMS",
        "outputId": "08a61def-d7de-4b3f-ef4d-33d504133f62"
      },
      "execution_count": 62,
      "outputs": [
        {
          "output_type": "stream",
          "name": "stdout",
          "text": [
            "Model: \"sequential_1\"\n",
            "_________________________________________________________________\n",
            " Layer (type)                Output Shape              Param #   \n",
            "=================================================================\n",
            " conv2d (Conv2D)             (None, 26, 26, 32)        320       \n",
            "                                                                 \n",
            " conv2d_1 (Conv2D)           (None, 24, 24, 64)        18496     \n",
            "                                                                 \n",
            " conv2d_2 (Conv2D)           (None, 22, 22, 128)       73856     \n",
            "                                                                 \n",
            " max_pooling2d (MaxPooling2D  (None, 11, 11, 128)      0         \n",
            " )                                                               \n",
            "                                                                 \n",
            " conv2d_3 (Conv2D)           (None, 9, 9, 32)          36896     \n",
            "                                                                 \n",
            " conv2d_4 (Conv2D)           (None, 7, 7, 64)          18496     \n",
            "                                                                 \n",
            " conv2d_5 (Conv2D)           (None, 5, 5, 64)          36928     \n",
            "                                                                 \n",
            " flatten (Flatten)           (None, 1600)              0         \n",
            "                                                                 \n",
            " dense (Dense)               (None, 64)                102464    \n",
            "                                                                 \n",
            " dense_1 (Dense)             (None, 10)                650       \n",
            "                                                                 \n",
            "=================================================================\n",
            "Total params: 288,106\n",
            "Trainable params: 288,106\n",
            "Non-trainable params: 0\n",
            "_________________________________________________________________\n"
          ]
        }
      ]
    },
    {
      "cell_type": "code",
      "source": [
        "model.compile(loss = 'categorical_crossentropy',optimizer = 'rmsprop',metrics = ['accuracy'])"
      ],
      "metadata": {
        "id": "ONVuHxY4hAO3"
      },
      "execution_count": 63,
      "outputs": []
    },
    {
      "cell_type": "code",
      "source": [
        "history1 = model.fit(x_train,y_train, validation_data=(x_test,y_test), verbose = 1, batch_size=32, epochs = 12)"
      ],
      "metadata": {
        "colab": {
          "base_uri": "https://localhost:8080/"
        },
        "id": "Wa9jMR1phARO",
        "outputId": "baa194b1-6b4e-4641-ac73-3c92c0ca2525"
      },
      "execution_count": 64,
      "outputs": [
        {
          "output_type": "stream",
          "name": "stdout",
          "text": [
            "Epoch 1/12\n",
            "1875/1875 [==============================] - 25s 7ms/step - loss: 0.1414 - accuracy: 0.9553 - val_loss: 0.0515 - val_accuracy: 0.9830\n",
            "Epoch 2/12\n",
            "1875/1875 [==============================] - 13s 7ms/step - loss: 0.0474 - accuracy: 0.9863 - val_loss: 0.0318 - val_accuracy: 0.9904\n",
            "Epoch 3/12\n",
            "1875/1875 [==============================] - 13s 7ms/step - loss: 0.0379 - accuracy: 0.9896 - val_loss: 0.0421 - val_accuracy: 0.9883\n",
            "Epoch 4/12\n",
            "1875/1875 [==============================] - 12s 7ms/step - loss: 0.0336 - accuracy: 0.9910 - val_loss: 0.0366 - val_accuracy: 0.9900\n",
            "Epoch 5/12\n",
            "1875/1875 [==============================] - 13s 7ms/step - loss: 0.0324 - accuracy: 0.9916 - val_loss: 0.0348 - val_accuracy: 0.9905\n",
            "Epoch 6/12\n",
            "1875/1875 [==============================] - 13s 7ms/step - loss: 0.0293 - accuracy: 0.9932 - val_loss: 0.0323 - val_accuracy: 0.9936\n",
            "Epoch 7/12\n",
            "1875/1875 [==============================] - 13s 7ms/step - loss: 0.0298 - accuracy: 0.9930 - val_loss: 0.0386 - val_accuracy: 0.9903\n",
            "Epoch 8/12\n",
            "1875/1875 [==============================] - 13s 7ms/step - loss: 0.0300 - accuracy: 0.9934 - val_loss: 0.0413 - val_accuracy: 0.9877\n",
            "Epoch 9/12\n",
            "1875/1875 [==============================] - 13s 7ms/step - loss: 0.0299 - accuracy: 0.9934 - val_loss: 0.0872 - val_accuracy: 0.9888\n",
            "Epoch 10/12\n",
            "1875/1875 [==============================] - 13s 7ms/step - loss: 0.0342 - accuracy: 0.9930 - val_loss: 0.0520 - val_accuracy: 0.9908\n",
            "Epoch 11/12\n",
            "1875/1875 [==============================] - 13s 7ms/step - loss: 0.0327 - accuracy: 0.9933 - val_loss: 0.0419 - val_accuracy: 0.9916\n",
            "Epoch 12/12\n",
            "1875/1875 [==============================] - 12s 7ms/step - loss: 0.0381 - accuracy: 0.9931 - val_loss: 0.0544 - val_accuracy: 0.9906\n"
          ]
        }
      ]
    },
    {
      "cell_type": "code",
      "source": [
        "# history1.history\n",
        "\n",
        "plt.plot(history1.history[\"accuracy\"])\n",
        "plt.plot(history1.history[\"val_accuracy\"])\n",
        "plt.legend()"
      ],
      "metadata": {
        "colab": {
          "base_uri": "https://localhost:8080/",
          "height": 302
        },
        "id": "9YEYZqGxq1S_",
        "outputId": "0b905c64-7184-4688-b521-1736268a5855"
      },
      "execution_count": 74,
      "outputs": [
        {
          "output_type": "stream",
          "name": "stderr",
          "text": [
            "No handles with labels found to put in legend.\n"
          ]
        },
        {
          "output_type": "execute_result",
          "data": {
            "text/plain": [
              "<matplotlib.legend.Legend at 0x7ffaa63fffd0>"
            ]
          },
          "metadata": {},
          "execution_count": 74
        },
        {
          "output_type": "display_data",
          "data": {
            "text/plain": [
              "<Figure size 432x288 with 1 Axes>"
            ],
            "image/png": "[encoded data removed]"
          },
          "metadata": {
            "needs_background": "light"
          }
        }
      ]
    },
    {
      "cell_type": "code",
      "source": [
        ""
      ],
      "metadata": {
        "id": "LpKcBp1irlpt"
      },
      "execution_count": null,
      "outputs": []
    }
  ]
}