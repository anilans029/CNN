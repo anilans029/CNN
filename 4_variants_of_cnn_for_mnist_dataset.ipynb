{
  "nbformat": 4,
  "nbformat_minor": 0,
  "metadata": {
    "colab": {
      "name": "4_variants_of_cnn_for_mnist_dataset.ipynb",
      "provenance": [],
      "collapsed_sections": [],
      "include_colab_link": true
    },
    "kernelspec": {
      "name": "python3",
      "display_name": "Python 3"
    },
    "language_info": {
      "name": "python"
    },
    "accelerator": "GPU",
    "gpuClass": "standard"
  },
  "cells": [
    {
      "cell_type": "markdown",
      "metadata": {
        "id": "view-in-github",
        "colab_type": "text"
      },
      "source": [
        "<a href=\"https://colab.research.google.com/github/anilans029/CNN/blob/main/4_variants_of_cnn_for_mnist_dataset.ipynb\" target=\"_parent\"><img src=\"https://colab.research.google.com/assets/colab-badge.svg\" alt=\"Open In Colab\"/></a>"
      ]
    },
    {
      "cell_type": "code",
      "source": [
        "from tensorflow.keras.datasets import mnist\n",
        "import matplotlib.pyplot as plt\n",
        "from keras.utils import np_utils\n",
        "from tensorflow.keras.models import Sequential\n",
        "from tensorflow.keras.layers import Dense,Conv2D,ReLU,Flatten,MaxPool2D\n",
        "%matplotlib inline\n"
      ],
      "metadata": {
        "id": "GswGyzrwC_S7"
      },
      "execution_count": 4,
      "outputs": []
    },
    {
      "cell_type": "markdown",
      "source": [
        "***Loading the Mnist Dataset***"
      ],
      "metadata": {
        "id": "lNgEaaMtCxtd"
      }
    },
    {
      "cell_type": "code",
      "source": [
        "(x_train,y_train),(x_test,y_test) =  mnist.load_data()\n",
        "\n",
        "print(f\"the mnist data set having a training set of {x_train.shape[0]} samples,\\n test set of {x_test.shape[0]} samples\")"
      ],
      "metadata": {
        "colab": {
          "base_uri": "https://localhost:8080/"
        },
        "id": "Aaepgp6cC-jD",
        "outputId": "c94fcfb1-5159-4cb5-8367-24cba3125ec1"
      },
      "execution_count": 5,
      "outputs": [
        {
          "output_type": "stream",
          "name": "stdout",
          "text": [
            "Downloading data from https://storage.googleapis.com/tensorflow/tf-keras-datasets/mnist.npz\n",
            "11493376/11490434 [==============================] - 0s 0us/step\n",
            "11501568/11490434 [==============================] - 0s 0us/step\n",
            "the mnist data set having a training set of 60000 samples,\n",
            " test set of 10000 samples\n"
          ]
        }
      ]
    },
    {
      "cell_type": "markdown",
      "source": [
        "***Visualize first few training data***"
      ],
      "metadata": {
        "id": "YEnh9WruESo6"
      }
    },
    {
      "cell_type": "code",
      "source": [
        "\n",
        "fig = plt.figure(figsize = (20,20))\n",
        "for i in range(6):\n",
        "  ax = fig.add_subplot(1,6,i+1,xticks=[],yticks=[])\n",
        "  ax.imshow(x_train[i],cmap = \"gray\")\n",
        "  ax.set_title(str(y_train[i]))"
      ],
      "metadata": {
        "colab": {
          "base_uri": "https://localhost:8080/",
          "height": 210
        },
        "id": "ekWjqZJLC9zx",
        "outputId": "a3bfea35-228f-4922-f5a9-171435b25efa"
      },
      "execution_count": 6,
      "outputs": [
        {
          "output_type": "display_data",
          "data": {
            "text/plain": [
              "<Figure size 1440x1440 with 6 Axes>"
            ],
            "image/png": "[encoded data removed]"
          },
          "metadata": {}
        }
      ]
    },
    {
      "cell_type": "markdown",
      "source": [
        "***Pre-process the dataset***"
      ],
      "metadata": {
        "id": "pdz4iuJcGwQ0"
      }
    },
    {
      "cell_type": "code",
      "source": [
        "### rescaling the images within the range 0 - 1 from 0,255\n",
        "\n",
        "x_train = x_train.astype('float32')/255\n",
        "x_test = x_test.astype('float32')/255\n"
      ],
      "metadata": {
        "id": "d36XF2neCAGo"
      },
      "execution_count": 7,
      "outputs": []
    },
    {
      "cell_type": "code",
      "source": [
        "### encoding the categorical integer labels using one-hot encoding\n",
        "\n",
        "num_classes = 10\n",
        "y_train = np_utils.to_categorical(y_train, num_classes=num_classes)\n",
        "y_test = np_utils.to_categorical(y_test,num_classes)\n"
      ],
      "metadata": {
        "id": "jS_5LhVCClyc"
      },
      "execution_count": 8,
      "outputs": []
    },
    {
      "cell_type": "markdown",
      "source": [
        "***Reshaping our image data by adding the channel number too***"
      ],
      "metadata": {
        "id": "XseH3iaQJu3s"
      }
    },
    {
      "cell_type": "code",
      "source": [
        "img_rows = 28\n",
        "img_cols = 28\n",
        "\n",
        "x_train = x_train.reshape(x_train.shape[0],img_rows,img_cols,1)\n",
        "\n",
        "x_test = x_test.reshape(x_test.shape[0],img_rows,img_cols,1)"
      ],
      "metadata": {
        "id": "CHle_mGWHpwp"
      },
      "execution_count": 9,
      "outputs": []
    },
    {
      "cell_type": "markdown",
      "source": [
        "***Defining the model architecture***"
      ],
      "metadata": {
        "id": "IHSQqQ0bK7X4"
      }
    },
    {
      "cell_type": "code",
      "source": [
        "model1 = Sequential()\n",
        "\n",
        "## conv layer1\n",
        "model1.add(Conv2D(32,kernel_size=(3,3), padding = 'valid', activation = 'relu',input_shape = (28,28,1)))\n",
        "## maxpool 1\n",
        "model1.add(MaxPool2D(pool_size = (2,2)))\n",
        "## conv layer2\n",
        "model1.add(Conv2D(64,kernel_size=(3,3), activation = 'relu'))\n",
        "## maxpool 2\n",
        "model1.add(MaxPool2D(pool_size = (2,2)))\n",
        "## conv layer3\n",
        "model1.add(Conv2D(128,kernel_size=(3,3), activation = 'relu'))\n",
        "\n",
        "model1.add(Flatten())\n",
        "## adding dense layer with 64 neurons\n",
        "model1.add(Dense(64,activation = \"relu\"))\n",
        "\n",
        "model1.add(Dense(10,activation = \"softmax\"))\n",
        "\n",
        "model1.summary()"
      ],
      "metadata": {
        "colab": {
          "base_uri": "https://localhost:8080/"
        },
        "id": "xZJANTPoJBjY",
        "outputId": "bc43049f-6eb5-4df4-afb2-8c37c291f06d"
      },
      "execution_count": 10,
      "outputs": [
        {
          "output_type": "stream",
          "name": "stdout",
          "text": [
            "Model: \"sequential\"\n",
            "_________________________________________________________________\n",
            " Layer (type)                Output Shape              Param #   \n",
            "=================================================================\n",
            " conv2d (Conv2D)             (None, 26, 26, 32)        320       \n",
            "                                                                 \n",
            " max_pooling2d (MaxPooling2D  (None, 13, 13, 32)       0         \n",
            " )                                                               \n",
            "                                                                 \n",
            " conv2d_1 (Conv2D)           (None, 11, 11, 64)        18496     \n",
            "                                                                 \n",
            " max_pooling2d_1 (MaxPooling  (None, 5, 5, 64)         0         \n",
            " 2D)                                                             \n",
            "                                                                 \n",
            " conv2d_2 (Conv2D)           (None, 3, 3, 128)         73856     \n",
            "                                                                 \n",
            " flatten (Flatten)           (None, 1152)              0         \n",
            "                                                                 \n",
            " dense (Dense)               (None, 64)                73792     \n",
            "                                                                 \n",
            " dense_1 (Dense)             (None, 10)                650       \n",
            "                                                                 \n",
            "=================================================================\n",
            "Total params: 167,114\n",
            "Trainable params: 167,114\n",
            "Non-trainable params: 0\n",
            "_________________________________________________________________\n"
          ]
        }
      ]
    },
    {
      "cell_type": "code",
      "source": [
        "model1.compile(loss= \"categorical_crossentropy\", optimizer= \"rmsprop\", metrics = [\"accuracy\"])"
      ],
      "metadata": {
        "id": "VtGZa8UGKXWL"
      },
      "execution_count": 11,
      "outputs": []
    },
    {
      "cell_type": "code",
      "source": [
        "### train the model \n",
        "\n",
        "hist = model1.fit(x_train, y_train,batch_size = 32, epochs = 10, validation_data = (x_test,y_test), verbose = 1)"
      ],
      "metadata": {
        "colab": {
          "base_uri": "https://localhost:8080/"
        },
        "id": "VeqX-ZR8PA7n",
        "outputId": "fad7d67c-a53d-4a8c-e596-d8f672115226"
      },
      "execution_count": 12,
      "outputs": [
        {
          "output_type": "stream",
          "name": "stdout",
          "text": [
            "Epoch 1/10\n",
            "1875/1875 [==============================] - 20s 5ms/step - loss: 0.1289 - accuracy: 0.9597 - val_loss: 0.0339 - val_accuracy: 0.9905\n",
            "Epoch 2/10\n",
            "1875/1875 [==============================] - 9s 5ms/step - loss: 0.0405 - accuracy: 0.9878 - val_loss: 0.0306 - val_accuracy: 0.9904\n",
            "Epoch 3/10\n",
            "1875/1875 [==============================] - 9s 5ms/step - loss: 0.0299 - accuracy: 0.9912 - val_loss: 0.0264 - val_accuracy: 0.9924\n",
            "Epoch 4/10\n",
            "1875/1875 [==============================] - 8s 4ms/step - loss: 0.0235 - accuracy: 0.9932 - val_loss: 0.0354 - val_accuracy: 0.9906\n",
            "Epoch 5/10\n",
            "1875/1875 [==============================] - 9s 5ms/step - loss: 0.0199 - accuracy: 0.9945 - val_loss: 0.0469 - val_accuracy: 0.9882\n",
            "Epoch 6/10\n",
            "1875/1875 [==============================] - 8s 4ms/step - loss: 0.0165 - accuracy: 0.9953 - val_loss: 0.0344 - val_accuracy: 0.9902\n",
            "Epoch 7/10\n",
            "1875/1875 [==============================] - 9s 5ms/step - loss: 0.0155 - accuracy: 0.9956 - val_loss: 0.0482 - val_accuracy: 0.9918\n",
            "Epoch 8/10\n",
            "1875/1875 [==============================] - 8s 4ms/step - loss: 0.0148 - accuracy: 0.9964 - val_loss: 0.0456 - val_accuracy: 0.9901\n",
            "Epoch 9/10\n",
            "1875/1875 [==============================] - 8s 4ms/step - loss: 0.0143 - accuracy: 0.9967 - val_loss: 0.0418 - val_accuracy: 0.9935\n",
            "Epoch 10/10\n",
            "1875/1875 [==============================] - 8s 4ms/step - loss: 0.0119 - accuracy: 0.9971 - val_loss: 0.0422 - val_accuracy: 0.9924\n"
          ]
        }
      ]
    },
    {
      "cell_type": "code",
      "source": [
        "x_test.shape"
      ],
      "metadata": {
        "colab": {
          "base_uri": "https://localhost:8080/"
        },
        "id": "pA63wrF7P2ge",
        "outputId": "aa720b7b-5110-4df0-ea8c-1334ac2855bc"
      },
      "execution_count": 13,
      "outputs": [
        {
          "output_type": "execute_result",
          "data": {
            "text/plain": [
              "(10000, 28, 28, 1)"
            ]
          },
          "metadata": {},
          "execution_count": 13
        }
      ]
    },
    {
      "cell_type": "code",
      "source": [
        "x_test[0].shape"
      ],
      "metadata": {
        "colab": {
          "base_uri": "https://localhost:8080/"
        },
        "id": "wXOxkgGJRfBS",
        "outputId": "bb3de624-ed56-4069-d50a-7988c53db3e4"
      },
      "execution_count": 14,
      "outputs": [
        {
          "output_type": "execute_result",
          "data": {
            "text/plain": [
              "(28, 28, 1)"
            ]
          },
          "metadata": {},
          "execution_count": 14
        }
      ]
    },
    {
      "cell_type": "code",
      "source": [
        "model1.predict(x_test)[0]"
      ],
      "metadata": {
        "colab": {
          "base_uri": "https://localhost:8080/"
        },
        "id": "wCKiRkxYRiXO",
        "outputId": "c6aa36ba-e59b-490c-e79a-fa19be70ef3d"
      },
      "execution_count": 15,
      "outputs": [
        {
          "output_type": "execute_result",
          "data": {
            "text/plain": [
              "array([6.58507732e-18, 7.75376977e-16, 8.30209602e-16, 1.14400295e-14,\n",
              "       4.69188109e-15, 4.81341262e-17, 2.48732059e-21, 1.00000000e+00,\n",
              "       1.53971029e-16, 2.14915515e-13], dtype=float32)"
            ]
          },
          "metadata": {},
          "execution_count": 15
        }
      ]
    },
    {
      "cell_type": "code",
      "source": [
        "model2 = Sequential()\n",
        "\n",
        "## conv layer1\n",
        "model2.add(Conv2D(32,kernel_size=(3,3), padding = 'valid', activation = 'tanh',input_shape = (28,28,1)))\n",
        "## maxpool 1\n",
        "model2.add(MaxPool2D(pool_size = (2,2)))\n",
        "## conv layer2\n",
        "model2.add(Conv2D(64,kernel_size=(3,3), activation = 'tanh'))\n",
        "## maxpool 2\n",
        "model2.add(MaxPool2D(pool_size = (2,2)))\n",
        "## conv layer3\n",
        "model2.add(Conv2D(128,kernel_size=(3,3), activation = 'relu'))\n",
        "\n",
        "model2.add(Flatten())\n",
        "## adding dense layer with 64 neurons\n",
        "model2.add(Dense(64,activation = \"tanh\"))\n",
        "\n",
        "model2.add(Dense(10,activation = \"softmax\"))\n",
        "\n",
        "model2.summary()"
      ],
      "metadata": {
        "colab": {
          "base_uri": "https://localhost:8080/"
        },
        "id": "x1c_uO_HRqQd",
        "outputId": "14fd4ec1-7ed7-4db0-df08-2a337eaf33bd"
      },
      "execution_count": 16,
      "outputs": [
        {
          "output_type": "stream",
          "name": "stdout",
          "text": [
            "Model: \"sequential_1\"\n",
            "_________________________________________________________________\n",
            " Layer (type)                Output Shape              Param #   \n",
            "=================================================================\n",
            " conv2d_3 (Conv2D)           (None, 26, 26, 32)        320       \n",
            "                                                                 \n",
            " max_pooling2d_2 (MaxPooling  (None, 13, 13, 32)       0         \n",
            " 2D)                                                             \n",
            "                                                                 \n",
            " conv2d_4 (Conv2D)           (None, 11, 11, 64)        18496     \n",
            "                                                                 \n",
            " max_pooling2d_3 (MaxPooling  (None, 5, 5, 64)         0         \n",
            " 2D)                                                             \n",
            "                                                                 \n",
            " conv2d_5 (Conv2D)           (None, 3, 3, 128)         73856     \n",
            "                                                                 \n",
            " flatten_1 (Flatten)         (None, 1152)              0         \n",
            "                                                                 \n",
            " dense_2 (Dense)             (None, 64)                73792     \n",
            "                                                                 \n",
            " dense_3 (Dense)             (None, 10)                650       \n",
            "                                                                 \n",
            "=================================================================\n",
            "Total params: 167,114\n",
            "Trainable params: 167,114\n",
            "Non-trainable params: 0\n",
            "_________________________________________________________________\n"
          ]
        }
      ]
    },
    {
      "cell_type": "code",
      "source": [
        "model2.compile(loss= \"categorical_crossentropy\", optimizer= \"rmsprop\", metrics = [\"accuracy\"])"
      ],
      "metadata": {
        "id": "0sVxVslCSkG2"
      },
      "execution_count": 17,
      "outputs": []
    },
    {
      "cell_type": "code",
      "source": [
        "### train the model \n",
        "\n",
        "hist2 = model2.fit(x_train, y_train,batch_size = 32, epochs = 10, validation_data = (x_test,y_test), verbose = 1)"
      ],
      "metadata": {
        "colab": {
          "base_uri": "https://localhost:8080/"
        },
        "id": "--XK3bP4SkQ2",
        "outputId": "359fdab0-0cb8-4625-fe46-4ff0a4309c3e"
      },
      "execution_count": 18,
      "outputs": [
        {
          "output_type": "stream",
          "name": "stdout",
          "text": [
            "Epoch 1/10\n",
            "1875/1875 [==============================] - 9s 4ms/step - loss: 0.1183 - accuracy: 0.9635 - val_loss: 0.0848 - val_accuracy: 0.9720\n",
            "Epoch 2/10\n",
            "1875/1875 [==============================] - 8s 5ms/step - loss: 0.0408 - accuracy: 0.9873 - val_loss: 0.0366 - val_accuracy: 0.9896\n",
            "Epoch 3/10\n",
            "1875/1875 [==============================] - 8s 4ms/step - loss: 0.0288 - accuracy: 0.9916 - val_loss: 0.0327 - val_accuracy: 0.9911\n",
            "Epoch 4/10\n",
            "1875/1875 [==============================] - 8s 4ms/step - loss: 0.0237 - accuracy: 0.9932 - val_loss: 0.0374 - val_accuracy: 0.9887\n",
            "Epoch 5/10\n",
            "1875/1875 [==============================] - 9s 5ms/step - loss: 0.0176 - accuracy: 0.9950 - val_loss: 0.0326 - val_accuracy: 0.9922\n",
            "Epoch 6/10\n",
            "1875/1875 [==============================] - 8s 4ms/step - loss: 0.0146 - accuracy: 0.9957 - val_loss: 0.0288 - val_accuracy: 0.9931\n",
            "Epoch 7/10\n",
            "1875/1875 [==============================] - 9s 5ms/step - loss: 0.0123 - accuracy: 0.9966 - val_loss: 0.0465 - val_accuracy: 0.9883\n",
            "Epoch 8/10\n",
            "1875/1875 [==============================] - 8s 4ms/step - loss: 0.0086 - accuracy: 0.9976 - val_loss: 0.0411 - val_accuracy: 0.9909\n",
            "Epoch 9/10\n",
            "1875/1875 [==============================] - 9s 5ms/step - loss: 0.0071 - accuracy: 0.9980 - val_loss: 0.0397 - val_accuracy: 0.9923\n",
            "Epoch 10/10\n",
            "1875/1875 [==============================] - 9s 5ms/step - loss: 0.0060 - accuracy: 0.9982 - val_loss: 0.0404 - val_accuracy: 0.9923\n"
          ]
        }
      ]
    },
    {
      "cell_type": "code",
      "source": [
        "model3 = Sequential()\n",
        "\n",
        "## conv layer1\n",
        "model3.add(Conv2D(32,kernel_size=(7,7), padding = 'valid', activation = 'tanh',input_shape = (28,28,1)))\n",
        "model3.add(Conv2D(64,kernel_size=(5,5), padding = 'valid', activation = 'tanh',input_shape = (28,28,1)))\n",
        "## maxpool 1\n",
        "model3.add(MaxPool2D(pool_size = (2,2)))\n",
        "## conv layer2\n",
        "model3.add(Conv2D(128,kernel_size=(5,5), activation = 'relu'))\n",
        "## maxpool 2\n",
        "model3.add(MaxPool2D(pool_size = (2,2)))\n",
        "\n",
        "\n",
        "model3.add(Flatten())\n",
        "## adding dense layer with 64 neurons\n",
        "model3.add(Dense(64,activation = \"tanh\"))\n",
        "\n",
        "model3.add(Dense(10,activation = \"softmax\"))\n",
        "\n",
        "model3.summary()"
      ],
      "metadata": {
        "colab": {
          "base_uri": "https://localhost:8080/"
        },
        "id": "BZWMJbJTSkTr",
        "outputId": "1c4377b5-d259-423e-e332-168d4deabf83"
      },
      "execution_count": 19,
      "outputs": [
        {
          "output_type": "stream",
          "name": "stdout",
          "text": [
            "Model: \"sequential_2\"\n",
            "_________________________________________________________________\n",
            " Layer (type)                Output Shape              Param #   \n",
            "=================================================================\n",
            " conv2d_6 (Conv2D)           (None, 22, 22, 32)        1600      \n",
            "                                                                 \n",
            " conv2d_7 (Conv2D)           (None, 18, 18, 64)        51264     \n",
            "                                                                 \n",
            " max_pooling2d_4 (MaxPooling  (None, 9, 9, 64)         0         \n",
            " 2D)                                                             \n",
            "                                                                 \n",
            " conv2d_8 (Conv2D)           (None, 5, 5, 128)         204928    \n",
            "                                                                 \n",
            " max_pooling2d_5 (MaxPooling  (None, 2, 2, 128)        0         \n",
            " 2D)                                                             \n",
            "                                                                 \n",
            " flatten_2 (Flatten)         (None, 512)               0         \n",
            "                                                                 \n",
            " dense_4 (Dense)             (None, 64)                32832     \n",
            "                                                                 \n",
            " dense_5 (Dense)             (None, 10)                650       \n",
            "                                                                 \n",
            "=================================================================\n",
            "Total params: 291,274\n",
            "Trainable params: 291,274\n",
            "Non-trainable params: 0\n",
            "_________________________________________________________________\n"
          ]
        }
      ]
    },
    {
      "cell_type": "code",
      "source": [
        "model3.compile(loss= \"categorical_crossentropy\", optimizer= \"rmsprop\", metrics = [\"accuracy\"])"
      ],
      "metadata": {
        "id": "BOVzS3lUSkWS"
      },
      "execution_count": 20,
      "outputs": []
    },
    {
      "cell_type": "code",
      "source": [
        "### train the model \n",
        "\n",
        "hist3 = model3.fit(x_train, y_train,batch_size = 32, epochs = 10, validation_data = (x_test,y_test), verbose = 1)"
      ],
      "metadata": {
        "colab": {
          "base_uri": "https://localhost:8080/"
        },
        "id": "OB5jN-A0SkY7",
        "outputId": "7dbbd1e3-51ae-4287-c562-fb66a2f2b1ed"
      },
      "execution_count": 21,
      "outputs": [
        {
          "output_type": "stream",
          "name": "stdout",
          "text": [
            "Epoch 1/10\n",
            "1875/1875 [==============================] - 9s 4ms/step - loss: 0.1500 - accuracy: 0.9539 - val_loss: 0.0667 - val_accuracy: 0.9795\n",
            "Epoch 2/10\n",
            "1875/1875 [==============================] - 8s 4ms/step - loss: 0.0683 - accuracy: 0.9791 - val_loss: 0.0500 - val_accuracy: 0.9847\n",
            "Epoch 3/10\n",
            "1875/1875 [==============================] - 8s 4ms/step - loss: 0.0532 - accuracy: 0.9837 - val_loss: 0.0476 - val_accuracy: 0.9841\n",
            "Epoch 4/10\n",
            "1875/1875 [==============================] - 9s 5ms/step - loss: 0.0443 - accuracy: 0.9868 - val_loss: 0.0457 - val_accuracy: 0.9855\n",
            "Epoch 5/10\n",
            "1875/1875 [==============================] - 9s 5ms/step - loss: 0.0412 - accuracy: 0.9870 - val_loss: 0.0486 - val_accuracy: 0.9858\n",
            "Epoch 6/10\n",
            "1875/1875 [==============================] - 8s 4ms/step - loss: 0.0351 - accuracy: 0.9896 - val_loss: 0.0377 - val_accuracy: 0.9881\n",
            "Epoch 7/10\n",
            "1875/1875 [==============================] - 8s 4ms/step - loss: 0.0318 - accuracy: 0.9902 - val_loss: 0.0410 - val_accuracy: 0.9891\n",
            "Epoch 8/10\n",
            "1875/1875 [==============================] - 8s 4ms/step - loss: 0.0293 - accuracy: 0.9911 - val_loss: 0.0345 - val_accuracy: 0.9882\n",
            "Epoch 9/10\n",
            "1875/1875 [==============================] - 9s 5ms/step - loss: 0.0280 - accuracy: 0.9915 - val_loss: 0.0461 - val_accuracy: 0.9870\n",
            "Epoch 10/10\n",
            "1875/1875 [==============================] - 9s 5ms/step - loss: 0.0256 - accuracy: 0.9926 - val_loss: 0.0362 - val_accuracy: 0.9893\n"
          ]
        }
      ]
    },
    {
      "cell_type": "code",
      "source": [
        "model4 = Sequential()\n",
        "\n",
        "## conv layer1\n",
        "model4.add(Conv2D(32,kernel_size=(7,7), padding = 'valid', activation = 'tanh',input_shape = (28,28,1)))\n",
        "model4.add(Conv2D(64,kernel_size=(5,5), padding = 'valid', activation = 'tanh'))\n",
        "model4.add(Conv2D(128,kernel_size=(3,3), padding = 'valid', activation = 'relu'))\n",
        "\n",
        "## maxpool 1\n",
        "model4.add(MaxPool2D(pool_size = (2,2)))\n",
        "## conv layer2\n",
        "model4.add(Conv2D(128,kernel_size=(3,3), activation = 'relu'))\n",
        "  \n",
        "## conv layer3\n",
        "model4.add(Conv2D(128,kernel_size=(3,3), activation = 'relu'))\n",
        "\n",
        "model4.add(Flatten())\n",
        "## adding dense layer with 64 neurons\n",
        "model4.add(Dense(64,activation = \"tanh\"))\n",
        "\n",
        "model4.add(Dense(10,activation = \"softmax\"))\n",
        "\n",
        "model4.summary()"
      ],
      "metadata": {
        "colab": {
          "base_uri": "https://localhost:8080/"
        },
        "id": "2mMknH4xURMr",
        "outputId": "b78062dc-3e75-4569-9fdf-5c859a98d435"
      },
      "execution_count": 22,
      "outputs": [
        {
          "output_type": "stream",
          "name": "stdout",
          "text": [
            "Model: \"sequential_3\"\n",
            "_________________________________________________________________\n",
            " Layer (type)                Output Shape              Param #   \n",
            "=================================================================\n",
            " conv2d_9 (Conv2D)           (None, 22, 22, 32)        1600      \n",
            "                                                                 \n",
            " conv2d_10 (Conv2D)          (None, 18, 18, 64)        51264     \n",
            "                                                                 \n",
            " conv2d_11 (Conv2D)          (None, 16, 16, 128)       73856     \n",
            "                                                                 \n",
            " max_pooling2d_6 (MaxPooling  (None, 8, 8, 128)        0         \n",
            " 2D)                                                             \n",
            "                                                                 \n",
            " conv2d_12 (Conv2D)          (None, 6, 6, 128)         147584    \n",
            "                                                                 \n",
            " conv2d_13 (Conv2D)          (None, 4, 4, 128)         147584    \n",
            "                                                                 \n",
            " flatten_3 (Flatten)         (None, 2048)              0         \n",
            "                                                                 \n",
            " dense_6 (Dense)             (None, 64)                131136    \n",
            "                                                                 \n",
            " dense_7 (Dense)             (None, 10)                650       \n",
            "                                                                 \n",
            "=================================================================\n",
            "Total params: 553,674\n",
            "Trainable params: 553,674\n",
            "Non-trainable params: 0\n",
            "_________________________________________________________________\n"
          ]
        }
      ]
    },
    {
      "cell_type": "code",
      "source": [
        "model4.compile(loss= \"categorical_crossentropy\", optimizer= \"rmsprop\", metrics = [\"accuracy\"])"
      ],
      "metadata": {
        "id": "RAhrter4Skbf"
      },
      "execution_count": 23,
      "outputs": []
    },
    {
      "cell_type": "code",
      "source": [
        "### train the model \n",
        "\n",
        "hist4 = model4.fit(x_train, y_train,batch_size = 32, epochs = 10, validation_data = (x_test,y_test), verbose = 1)"
      ],
      "metadata": {
        "colab": {
          "base_uri": "https://localhost:8080/"
        },
        "id": "ydlscvr_SkeV",
        "outputId": "a80dcb55-31ec-43dd-930a-27ed9d3cf505"
      },
      "execution_count": 24,
      "outputs": [
        {
          "output_type": "stream",
          "name": "stdout",
          "text": [
            "Epoch 1/10\n",
            "1875/1875 [==============================] - 11s 6ms/step - loss: 0.1802 - accuracy: 0.9447 - val_loss: 0.1381 - val_accuracy: 0.9570\n",
            "Epoch 2/10\n",
            "1875/1875 [==============================] - 12s 6ms/step - loss: 0.1369 - accuracy: 0.9591 - val_loss: 0.0982 - val_accuracy: 0.9713\n",
            "Epoch 3/10\n",
            "1875/1875 [==============================] - 11s 6ms/step - loss: 0.1468 - accuracy: 0.9556 - val_loss: 0.1055 - val_accuracy: 0.9676\n",
            "Epoch 4/10\n",
            "1875/1875 [==============================] - 10s 6ms/step - loss: 0.1493 - accuracy: 0.9546 - val_loss: 0.1800 - val_accuracy: 0.9414\n",
            "Epoch 5/10\n",
            "1875/1875 [==============================] - 10s 6ms/step - loss: 0.1402 - accuracy: 0.9575 - val_loss: 0.1905 - val_accuracy: 0.9381\n",
            "Epoch 6/10\n",
            "1875/1875 [==============================] - 10s 5ms/step - loss: 0.1365 - accuracy: 0.9602 - val_loss: 0.1023 - val_accuracy: 0.9693\n",
            "Epoch 7/10\n",
            "1875/1875 [==============================] - 10s 5ms/step - loss: 0.1272 - accuracy: 0.9627 - val_loss: 0.1280 - val_accuracy: 0.9633\n",
            "Epoch 8/10\n",
            "1875/1875 [==============================] - 10s 6ms/step - loss: 0.1437 - accuracy: 0.9567 - val_loss: 0.1124 - val_accuracy: 0.9664\n",
            "Epoch 9/10\n",
            "1875/1875 [==============================] - 11s 6ms/step - loss: 0.1324 - accuracy: 0.9612 - val_loss: 0.0994 - val_accuracy: 0.9679\n",
            "Epoch 10/10\n",
            "1875/1875 [==============================] - 11s 6ms/step - loss: 0.1235 - accuracy: 0.9636 - val_loss: 0.1216 - val_accuracy: 0.9625\n"
          ]
        }
      ]
    },
    {
      "cell_type": "code",
      "source": [
        "hist1 = hist"
      ],
      "metadata": {
        "id": "dxLxS7SqWVHZ"
      },
      "execution_count": 25,
      "outputs": []
    },
    {
      "cell_type": "code",
      "source": [
        "plt.plot(hist1.history[\"val_accuracy\"],label='model1')\n",
        "plt.plot(hist2.history[\"val_accuracy\"],label='model2')\n",
        "plt.plot(hist3.history[\"val_accuracy\"],label='model3')\n",
        "plt.plot(hist4.history[\"val_accuracy\"],label='model4')\n",
        "plt.legend()\n",
        "plt.title(\"val_accuracy of 4 models\")"
      ],
      "metadata": {
        "colab": {
          "base_uri": "https://localhost:8080/",
          "height": 298
        },
        "id": "7UKhmx2UooVg",
        "outputId": "da5905d7-60f1-451c-d332-310cd19f02fe"
      },
      "execution_count": 32,
      "outputs": [
        {
          "output_type": "execute_result",
          "data": {
            "text/plain": [
              "Text(0.5, 1.0, 'val_accuracy of 4 models')"
            ]
          },
          "metadata": {},
          "execution_count": 32
        },
        {
          "output_type": "display_data",
          "data": {
            "text/plain": [
              "<Figure size 432x288 with 1 Axes>"
            ],
            "image/png": "[encoded data removed]"
          },
          "metadata": {
            "needs_background": "light"
          }
        }
      ]
    },
    {
      "cell_type": "code",
      "source": [
        "plt.plot(hist1.history[\"val_loss\"],label='model1')\n",
        "plt.plot(hist2.history[\"val_loss\"],label='model2')\n",
        "plt.plot(hist3.history[\"val_loss\"],label='model3')\n",
        "plt.plot(hist4.history[\"val_loss\"],label='model4')\n",
        "plt.legend()\n",
        "plt.title(\"val_loss of all the models\")"
      ],
      "metadata": {
        "colab": {
          "base_uri": "https://localhost:8080/",
          "height": 298
        },
        "id": "B4QIVa0Rph7j",
        "outputId": "e1419bec-27ae-4f29-9142-20e09790910e"
      },
      "execution_count": 33,
      "outputs": [
        {
          "output_type": "execute_result",
          "data": {
            "text/plain": [
              "Text(0.5, 1.0, 'val_loss of all the models')"
            ]
          },
          "metadata": {},
          "execution_count": 33
        },
        {
          "output_type": "display_data",
          "data": {
            "text/plain": [
              "<Figure size 432x288 with 1 Axes>"
            ],
            "image/png": "[encoded data removed]"
          },
          "metadata": {
            "needs_background": "light"
          }
        }
      ]
    },
    {
      "cell_type": "code",
      "source": [
        ""
      ],
      "metadata": {
        "id": "Ifb1HeoytRDF"
      },
      "execution_count": null,
      "outputs": []
    }
  ]
}